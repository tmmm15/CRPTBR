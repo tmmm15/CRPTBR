{
 "cells": [
  {
   "cell_type": "code",
   "execution_count": null,
   "id": "26e87f64",
   "metadata": {},
   "outputs": [],
   "source": [
    "pip install ccxt"
   ]
  },
  {
   "cell_type": "code",
   "execution_count": 1,
   "id": "01305855",
   "metadata": {},
   "outputs": [],
   "source": [
    "import ccxt"
   ]
  },
  {
   "cell_type": "code",
   "execution_count": null,
   "id": "64c394f9",
   "metadata": {},
   "outputs": [],
   "source": [
    "import time"
   ]
  },
  {
   "cell_type": "code",
   "execution_count": 2,
   "id": "6f781929",
   "metadata": {},
   "outputs": [],
   "source": [
    "cryptocurrencies = ['BTC/USDT', 'ETH/USDT', 'XRP/USDT']\n",
    "exchange = ccxt.binance()  # Используем Binance в качестве примера"
   ]
  },
  {
   "cell_type": "code",
   "execution_count": 3,
   "id": "460ce0b8",
   "metadata": {},
   "outputs": [],
   "source": [
    "def fetch_prices():\n",
    "    try:\n",
    "        # Получаем данные о ценах\n",
    "        ticker = exchange.fetch_tickers(cryptocurrencies)\n",
    "        prices = {symbol: ticker[symbol]['last'] for symbol in cryptocurrencies}\n",
    "        return prices\n",
    "    except Exception as e:\n",
    "        print(f\"Ошибка при получении цен: {e}\")\n",
    "        return None\n"
   ]
  },
  {
   "cell_type": "code",
   "execution_count": 4,
   "id": "9d2e924e",
   "metadata": {},
   "outputs": [],
   "source": [
    "prices = fetch_prices()"
   ]
  },
  {
   "cell_type": "code",
   "execution_count": 5,
   "id": "eaa48b57",
   "metadata": {},
   "outputs": [
    {
     "name": "stdout",
     "output_type": "stream",
     "text": [
      "{'BTC/USDT': 63790.69, 'ETH/USDT': 2630.64, 'XRP/USDT': 0.6302}\n"
     ]
    }
   ],
   "source": [
    "print(prices)"
   ]
  },
  {
   "cell_type": "code",
   "execution_count": null,
   "id": "8ba6f7dd",
   "metadata": {},
   "outputs": [],
   "source": []
  }
 ],
 "metadata": {
  "kernelspec": {
   "display_name": "Python 3 (ipykernel)",
   "language": "python",
   "name": "python3"
  },
  "language_info": {
   "codemirror_mode": {
    "name": "ipython",
    "version": 3
   },
   "file_extension": ".py",
   "mimetype": "text/x-python",
   "name": "python",
   "nbconvert_exporter": "python",
   "pygments_lexer": "ipython3",
   "version": "3.9.7"
  }
 },
 "nbformat": 4,
 "nbformat_minor": 5
}
