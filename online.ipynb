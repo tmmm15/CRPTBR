{
 "cells": [
  {
   "cell_type": "code",
   "execution_count": null,
   "id": "26e87f64",
   "metadata": {},
   "outputs": [],
   "source": [
    "!pip install ccxt\n",
    "#установка библиотеки\n",
    "# https://docs.ccxt.com/#/"
   ]
  },
  {
   "cell_type": "code",
   "execution_count": null,
   "id": "01305855",
   "metadata": {},
   "outputs": [],
   "source": [
    "import ccxt"
   ]
  },
  {
   "cell_type": "code",
   "execution_count": null,
   "id": "6f781929",
   "metadata": {},
   "outputs": [],
   "source": [
    "cryptocurrencies = ['BTC/USDT', 'ETH/USDT', 'XRP/USDT']\n",
    "exchange = ccxt.binance()  \n",
    "# Используем Binance в качестве примера.  Паша, сюда же будем подсовывать наш кофиг-файл с монетками ?"
   ]
  },
  {
   "cell_type": "code",
   "execution_count": null,
   "id": "460ce0b8",
   "metadata": {},
   "outputs": [],
   "source": [
    "def online_prices():\n",
    "    try:\n",
    "        ticker = exchange.fetch_tickers(cryptocurrencies)\n",
    "        prices = {symbol: ticker[symbol]['last'] for symbol in cryptocurrencies}\n",
    "        return prices\n",
    "    except Exception as e:\n",
    "        print(f\"Ошибка при получении цен: {e}\")\n",
    "        return None\n",
    " \n",
    "# функция для получения данных о ценах"
   ]
  },
  {
   "cell_type": "code",
   "execution_count": null,
   "id": "554cccf0",
   "metadata": {},
   "outputs": [],
   "source": [
    "import time\n",
    "# https://docs.python.org/3/library/time.html"
   ]
  },
  {
   "cell_type": "code",
   "execution_count": null,
   "id": "9d2e924e",
   "metadata": {},
   "outputs": [],
   "source": [
    "while True:\n",
    "    prices = online_prices()\n",
    "    if prices is not None:\n",
    "        print(prices)  # Печатаем обновленные цены\n",
    "    else:\n",
    "        print(\"Не удалось получить цены.\")\n",
    "    \n",
    "    time.sleep(5)  # Ждем 5 секунд перед следующим обновлением\n",
    "    \n",
    "#Бесконечный цикл while True: для постоянного выполнения кода внутри цикла."
   ]
  },
  {
   "cell_type": "markdown",
   "id": "0dad074f",
   "metadata": {},
   "source": [
    "## в дальнейшем выводить значения в файл или бот телеграма ?)"
   ]
  },
  {
   "cell_type": "code",
   "execution_count": null,
   "id": "bf4fc23d",
   "metadata": {},
   "outputs": [],
   "source": []
  }
 ],
 "metadata": {
  "kernelspec": {
   "display_name": "Python 3 (ipykernel)",
   "language": "python",
   "name": "python3"
  },
  "language_info": {
   "codemirror_mode": {
    "name": "ipython",
    "version": 3
   },
   "file_extension": ".py",
   "mimetype": "text/x-python",
   "name": "python",
   "nbconvert_exporter": "python",
   "pygments_lexer": "ipython3",
   "version": "3.11.5"
  }
 },
 "nbformat": 4,
 "nbformat_minor": 5
}
